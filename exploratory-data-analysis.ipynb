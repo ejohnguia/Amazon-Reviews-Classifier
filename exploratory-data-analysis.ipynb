{
 "cells": [
  {
   "cell_type": "markdown",
   "metadata": {},
   "source": [
    "The data is formatted as JSON separated by newline. Using pandas to read dataset"
   ]
  },
  {
   "cell_type": "code",
   "execution_count": 3,
   "metadata": {},
   "outputs": [
    {
     "name": "stdout",
     "output_type": "stream",
     "text": [
      "       overall  verified   reviewTime      reviewerID        asin  \\\n",
      "0            4     False  10 20, 2010  A38NELQT98S4H8  0321719816   \n",
      "1            4     False  10 18, 2010  A3QJU4FEN8PQSZ  0321719816   \n",
      "2            5     False  10 16, 2010   ACJT8MUC0LRF0  0321719816   \n",
      "3            5     False  10 12, 2010   AYUF7YETYOLNX  0321719816   \n",
      "4            5     False   10 7, 2010  A31ICLWQ9CSHRS  0321719816   \n",
      "...        ...       ...          ...             ...         ...   \n",
      "12800        4     False  07 16, 2016  A1E50L7PCVXLN4  B01FFVDY9M   \n",
      "12801        3     False  06 17, 2017   AVU1ILDDYW301  B01HAP3NUG   \n",
      "12802        4     False  01 24, 2017  A2LW5AL0KQ9P1M  B01HAP3NUG   \n",
      "12803        3     False  06 14, 2018   AZ515FFZ7I2P7  B01HAP47PQ   \n",
      "12804        4     False  04 16, 2018  A2WPL6Y08K6ZQH  B01HAP47PQ   \n",
      "\n",
      "                            style       reviewerName  \\\n",
      "0         {'Format:': ' DVD-ROM'}          WB Halper   \n",
      "1         {'Format:': ' DVD-ROM'}             Grimmy   \n",
      "2         {'Format:': ' DVD-ROM'}          D. Fowler   \n",
      "3         {'Format:': ' DVD-ROM'}       Bryan Newman   \n",
      "4         {'Format:': ' DVD-ROM'}         Al Swanson   \n",
      "...                           ...                ...   \n",
      "12800  {'Platform:': ' Key Card'}            Colinda   \n",
      "12801                         NaN           G. Hearn   \n",
      "12802                         NaN              Dr. E   \n",
      "12803   {'Platform:': ' PC Disc'}  Jerry Jackson Jr.   \n",
      "12804   {'Platform:': ' PC Disc'}        Narut Ujnat   \n",
      "\n",
      "                                              reviewText  \\\n",
      "0      I've been using Dreamweaver (and it's predeces...   \n",
      "1      The demo is done with the PC version, with ref...   \n",
      "2      If you've been wanting to learn how to create ...   \n",
      "3      I've been creating websites with Dreamweaver f...   \n",
      "4      I decided (after trying a number of other prod...   \n",
      "...                                                  ...   \n",
      "12800  When I ordered this it was listed as Photo Edi...   \n",
      "12801  This software has SO much going on.  Theres a ...   \n",
      "12802  I have used both more complex and less complex...   \n",
      "12803  Pinnacle Studio 20 Ultimate is a perfectly ser...   \n",
      "12804  A program that is fairly easy to use and provi...   \n",
      "\n",
      "                                                 summary  unixReviewTime vote  \\\n",
      "0                    A solid overview of Dreamweaver CS5      1287532800  NaN   \n",
      "1                                           A good value      1287360000  NaN   \n",
      "2      This is excellent software for those who want ...      1287187200    3   \n",
      "3      A Fantastic Overview of Dream Weaver and Web D...      1286841600  NaN   \n",
      "4                                   Excellent Tutorials!      1286409600  NaN   \n",
      "...                                                  ...             ...  ...   \n",
      "12800  File Management Software with Basic Editing Ca...      1468627200  NaN   \n",
      "12801                      Might not be for the \"novice\"      1497657600  NaN   \n",
      "12802  Great, Inexpensive Software for Those Who Have...      1485216000  NaN   \n",
      "12803  Gets the job done ... but not as easy as it sh...      1528934400  NaN   \n",
      "12804                              Good overall program.      1523836800  NaN   \n",
      "\n",
      "      image  \n",
      "0       NaN  \n",
      "1       NaN  \n",
      "2       NaN  \n",
      "3       NaN  \n",
      "4       NaN  \n",
      "...     ...  \n",
      "12800   NaN  \n",
      "12801   NaN  \n",
      "12802   NaN  \n",
      "12803   NaN  \n",
      "12804   NaN  \n",
      "\n",
      "[12805 rows x 12 columns]\n"
     ]
    }
   ],
   "source": [
    "import pandas as pd\n",
    "\n",
    "dataframe = pd.read_json(\"./Software_5.json\", lines=True)\n"
   ]
  }
 ],
 "metadata": {
  "kernelspec": {
   "display_name": "Python 3.10.8 64-bit (microsoft store)",
   "language": "python",
   "name": "python3"
  },
  "language_info": {
   "codemirror_mode": {
    "name": "ipython",
    "version": 3
   },
   "file_extension": ".py",
   "mimetype": "text/x-python",
   "name": "python",
   "nbconvert_exporter": "python",
   "pygments_lexer": "ipython3",
   "version": "3.10.8"
  },
  "orig_nbformat": 4,
  "vscode": {
   "interpreter": {
    "hash": "15bb29a5fb3ded12833a8bdef9aaa0cfe7d8c0791f1fcf4cabcadda720808a35"
   }
  }
 },
 "nbformat": 4,
 "nbformat_minor": 2
}
