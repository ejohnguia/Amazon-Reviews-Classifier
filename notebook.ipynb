{
 "cells": [
  {
   "cell_type": "markdown",
   "metadata": {},
   "source": [
    "# Data Preprocessing"
   ]
  },
  {
   "cell_type": "markdown",
   "metadata": {},
   "source": [
    "The data is formatted as JSON separated by newline. Using pandas to read dataset"
   ]
  },
  {
   "cell_type": "code",
   "execution_count": 4,
   "metadata": {},
   "outputs": [],
   "source": [
    "import pandas as pd\n",
    "import matplotlib.pyplot as plt\n",
    "\n",
    "dataframe = pd.read_json(\"./Software_5.json\", lines=True)\n"
   ]
  },
  {
   "cell_type": "markdown",
   "metadata": {},
   "source": [
    "The feature `vote` tells us if the review is helpful or not. To better classifying our data, we want to remove all reviews that have no vote"
   ]
  },
  {
   "cell_type": "code",
   "execution_count": 5,
   "metadata": {},
   "outputs": [],
   "source": [
    "dataframe = dataframe[dataframe['vote'].notna()]\n"
   ]
  },
  {
   "cell_type": "markdown",
   "metadata": {},
   "source": [
    "For feature `reviewText`, we want to do some pre processing steps on the text. Notably:\n",
    "\n",
    "- Lemmetization  \n",
    "- Expand contraction   \n",
    "- Lower all words"
   ]
  },
  {
   "cell_type": "code",
   "execution_count": 36,
   "metadata": {},
   "outputs": [
    {
     "name": "stdout",
     "output_type": "stream",
     "text": [
      "I are not\n"
     ]
    }
   ],
   "source": [
    "from nltk.corpus import stopwords\n",
    "import nltk\n",
    "import string\n",
    "import contractions\n",
    "\n",
    "\n",
    "def remove_special_symbol(text: str) -> str:\n",
    "    punctuationfree = \"\".join([i for i in text if i not in string.punctuation])\n",
    "    return punctuationfree\n",
    "\n",
    "\n",
    "def lower_text(text: str) -> str:\n",
    "    return text.lower()\n",
    "\n",
    "\n",
    "def remove_stop_words(text: str) -> str:\n",
    "    nltk.download('stopwords')\n",
    "    stop_words = set(stopwords.words('english'))\n",
    "    return ' '.join(\n",
    "        [word for word in text.split() if word not in (stop_words)])\n",
    "\n",
    "\n",
    "def expand_contraction(text: str) -> str:\n",
    "    return contractions.fix(text)\n",
    "\n",
    "\n",
    "def stemming(text: str) -> str:\n",
    "    stemmer = nltk.stem.SnowballStemmer(\"english\")\n",
    "    return stemmer.stem(text)\n",
    "\n",
    "\n",
    "dataframe[\"reviewText\"].apply(lower_text).apply(expand_contraction).apply(\n",
    "    remove_stop_words).apply(remove_special_symbol).apply(stemming)\n"
   ]
  },
  {
   "cell_type": "markdown",
   "metadata": {},
   "source": [
    "Each review is assigned an overall score from 1.0 to 5.0. Convert those scores to labels where -1 is negative, 0 is neutral and 1 is positive"
   ]
  },
  {
   "cell_type": "code",
   "execution_count": null,
   "metadata": {},
   "outputs": [],
   "source": [
    "def sentiment_from_overall(number):\n",
    "    if number < 3.0:\n",
    "        return -1\n",
    "    if number == 3.0:\n",
    "        return 0\n",
    "    return 1\n",
    "\n",
    "dataframe[\"sentiment\"] = dataframe[\"overall\"].apply(sentiment_from_overall)"
   ]
  },
  {
   "cell_type": "markdown",
   "metadata": {},
   "source": [
    "# Visualization"
   ]
  },
  {
   "cell_type": "markdown",
   "metadata": {},
   "source": [
    "Exploratory data analysis on overall rating column"
   ]
  },
  {
   "cell_type": "code",
   "execution_count": null,
   "metadata": {},
   "outputs": [],
   "source": [
    "dataframe[\"overall\"].describe()\n"
   ]
  },
  {
   "cell_type": "markdown",
   "metadata": {},
   "source": [
    "Plotting pie chart and bar chart for overall score distribution. The 'overall' column has 5 labels: 1.0, 2.0, 3.0, 4.0, 5.0 where 1.0 is very bad, 3.0 is neutral and 5.0 is very good."
   ]
  },
  {
   "cell_type": "code",
   "execution_count": null,
   "metadata": {},
   "outputs": [],
   "source": [
    "scores = dataframe[\"overall\"].value_counts()\n",
    "index = scores.index.to_numpy()\n",
    "scores = scores.to_numpy()\n",
    "plt.pie(scores, labels=index, autopct='%1.1f%%')\n",
    "plt.title(\"Review distribution per rating\")\n",
    "plt.show()\n",
    "dataframe['overall'].value_counts().plot(kind='bar',title=\"Review count per rating\")\n"
   ]
  },
  {
   "cell_type": "markdown",
   "metadata": {},
   "source": [
    "We get the same statistic, but this time with sentiment"
   ]
  },
  {
   "cell_type": "code",
   "execution_count": null,
   "metadata": {},
   "outputs": [],
   "source": [
    "def sentiment_to_word(number):\n",
    "    if number == 1:\n",
    "        return \"Positive\"\n",
    "    if number == 0:\n",
    "        return \"Negative\"\n",
    "    return \"Neutral\"\n",
    "\n",
    "scores = dataframe[\"sentiment\"].value_counts()\n",
    "index = [sentiment_to_word(x) for x in scores.index.to_numpy()]\n",
    "scores = scores.to_numpy()\n",
    "plt.pie(scores, labels=index, autopct='%1.1f%%')\n",
    "plt.title(\"Review distribution per sentiment\")\n",
    "plt.show()\n",
    "dataframe['sentiment'].value_counts().plot(kind='bar',title=\"Review count per sentiment\")\n"
   ]
  },
  {
   "cell_type": "markdown",
   "metadata": {},
   "source": [
    "def sentiment_to_word(number):\n",
    "    if number == 0:\n",
    "        return \"Negative\"\n",
    "    if number == 1:\n",
    "        return \"Positive\"\n",
    "    return \"Neutral\"\n",
    "\n",
    "scores = dataframe[\"sentiment\"].value_counts()\n",
    "index = scores.index.to_numpy().apply(sentiment_to_word)\n",
    "scores = scores.to_numpy()\n",
    "\n",
    "plt.pie(scores, labels=index, autopct='%1.1f%%')\n",
    "plt.title(\"Review distribution per sentiment\")\n",
    "plt.show()"
   ]
  },
  {
   "cell_type": "markdown",
   "metadata": {},
   "source": [
    "Now, we get statistics on reivewText length. To visualize this, we use a boxplot"
   ]
  },
  {
   "cell_type": "code",
   "execution_count": null,
   "metadata": {},
   "outputs": [],
   "source": [
    "text_length = dataframe[\"reviewText\"].apply(len)\n",
    "print(\"Statistic of text length\\n\", text_length.describe())\n",
    "# To visualize this, we use boxplot\n",
    "plt.boxplot(text_length, vert=False)\n",
    "plt.show()\n"
   ]
  }
 ],
 "metadata": {
  "kernelspec": {
   "display_name": "Python 3.10.8 ('env': venv)",
   "language": "python",
   "name": "python3"
  },
  "language_info": {
   "codemirror_mode": {
    "name": "ipython",
    "version": 3
   },
   "file_extension": ".py",
   "mimetype": "text/x-python",
   "name": "python",
   "nbconvert_exporter": "python",
   "pygments_lexer": "ipython3",
   "version": "3.10.8"
  },
  "orig_nbformat": 4,
  "vscode": {
   "interpreter": {
    "hash": "a28adbb49694dd8c09d74fe099064d5fbc70acb3cc66c6fcdf1593672928518f"
   }
  }
 },
 "nbformat": 4,
 "nbformat_minor": 2
}
