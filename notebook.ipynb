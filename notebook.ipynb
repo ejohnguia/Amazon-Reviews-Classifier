{
 "cells": [
  {
   "cell_type": "markdown",
   "metadata": {},
   "source": [
    "# Data Preprocessing"
   ]
  },
  {
   "cell_type": "markdown",
   "metadata": {},
   "source": [
    "The data is formatted as JSON separated by newline. Using pandas to read dataset"
   ]
  },
  {
   "cell_type": "code",
   "execution_count": 1,
   "metadata": {},
   "outputs": [
    {
     "name": "stdout",
     "output_type": "stream",
     "text": [
      "root\n",
      " |-- asin: string (nullable = true)\n",
      " |-- image: array (nullable = true)\n",
      " |    |-- element: string (containsNull = true)\n",
      " |-- overall: double (nullable = true)\n",
      " |-- reviewText: string (nullable = true)\n",
      " |-- reviewTime: string (nullable = true)\n",
      " |-- reviewerID: string (nullable = true)\n",
      " |-- reviewerName: string (nullable = true)\n",
      " |-- style: struct (nullable = true)\n",
      " |    |-- Color:: string (nullable = true)\n",
      " |    |-- Format:: string (nullable = true)\n",
      " |    |-- Package Type:: string (nullable = true)\n",
      " |    |-- Platform:: string (nullable = true)\n",
      " |    |-- Size:: string (nullable = true)\n",
      " |    |-- Style Name:: string (nullable = true)\n",
      " |    |-- Style:: string (nullable = true)\n",
      " |-- summary: string (nullable = true)\n",
      " |-- unixReviewTime: long (nullable = true)\n",
      " |-- verified: boolean (nullable = true)\n",
      " |-- vote: string (nullable = true)\n",
      "\n",
      "None\n",
      "Data read 12805\n",
      "DataFrame[summary: string, asin: string, overall: string, reviewText: string, reviewTime: string, reviewerID: string, reviewerName: string, summary: string, unixReviewTime: string, vote: string]\n"
     ]
    }
   ],
   "source": [
    "import matplotlib.pyplot as plt\n",
    "import findspark\n",
    "from pyspark.sql import SparkSession\n",
    "from pyspark.context import SparkContext\n",
    "findspark.init()\n",
    "\n",
    "sc = SparkContext\n",
    "\n",
    "spark = SparkSession \\\n",
    "    .builder \\\n",
    "    .appName(\"Amazon Sentiment Analysis\") \\\n",
    "    .getOrCreate()\n",
    "\n",
    "dataframe = spark.read.json(\"./assets/Software_5.json\")\n",
    "\n",
    "print(dataframe.printSchema())\n",
    "print(\"Data read\", dataframe.count())\n",
    "print(dataframe.describe())\n"
   ]
  },
  {
   "cell_type": "markdown",
   "metadata": {},
   "source": [
    "The feature `vote` tells us if the review is helpful or not. To better classifying our data, we want to remove all reviews that have no vote.\n",
    "\n",
    "Also, note that the data type of `vote` is `object`. But since vote can only be a number, we want to convert vote to `int64` data type\n",
    "\n",
    "Now after preprocessing the vote, we can see that the data type of vote is `int64`"
   ]
  },
  {
   "cell_type": "code",
   "execution_count": 2,
   "metadata": {},
   "outputs": [
    {
     "name": "stdout",
     "output_type": "stream",
     "text": [
      "root\n",
      " |-- asin: string (nullable = true)\n",
      " |-- image: array (nullable = true)\n",
      " |    |-- element: string (containsNull = true)\n",
      " |-- overall: double (nullable = true)\n",
      " |-- reviewText: string (nullable = true)\n",
      " |-- reviewTime: string (nullable = true)\n",
      " |-- reviewerID: string (nullable = true)\n",
      " |-- reviewerName: string (nullable = true)\n",
      " |-- style: struct (nullable = true)\n",
      " |    |-- Color:: string (nullable = true)\n",
      " |    |-- Format:: string (nullable = true)\n",
      " |    |-- Package Type:: string (nullable = true)\n",
      " |    |-- Platform:: string (nullable = true)\n",
      " |    |-- Size:: string (nullable = true)\n",
      " |    |-- Style Name:: string (nullable = true)\n",
      " |    |-- Style:: string (nullable = true)\n",
      " |-- summary: string (nullable = true)\n",
      " |-- unixReviewTime: long (nullable = true)\n",
      " |-- verified: boolean (nullable = true)\n",
      " |-- vote: integer (nullable = true)\n",
      "\n",
      "None\n"
     ]
    }
   ],
   "source": [
    "from pyspark.sql.functions import col, udf\n",
    "from pyspark.sql.types import StringType, IntegerType\n",
    "\n",
    "df = dataframe.dropna(how=\"any\", subset=[\"vote\", \"overall\", \"reviewText\"])\n",
    "# Some vote has , in number, we just need to remove it\n",
    "\n",
    "def convert_to_int(text: str) -> int:\n",
    "    return int(text.replace(\",\", \"\"))\n",
    "\n",
    "\n",
    "process_vote = udf(lambda q: convert_to_int(q), IntegerType())\n",
    "\n",
    "df = df.withColumn(\"vote\", process_vote(col(\"vote\")))\n",
    "print(df.printSchema())\n"
   ]
  },
  {
   "cell_type": "markdown",
   "metadata": {},
   "source": [
    "For feature `reviewText`, we want to do some pre processing steps on the text. Notably:\n",
    "\n",
    "- Lemmetization  \n",
    "- Expand contraction   \n",
    "- Lower all words"
   ]
  },
  {
   "cell_type": "code",
   "execution_count": 3,
   "metadata": {},
   "outputs": [
    {
     "name": "stderr",
     "output_type": "stream",
     "text": [
      "[nltk_data] Downloading package stopwords to C:\\Users\\Garth\n",
      "[nltk_data]     Slaney\\AppData\\Roaming\\nltk_data...\n",
      "[nltk_data]   Package stopwords is already up-to-date!\n"
     ]
    },
    {
     "name": "stdout",
     "output_type": "stream",
     "text": [
      "+----------+--------------------+-------+--------------------+-----------+--------------+-------------------+--------------------+--------------------+--------------+--------+----+--------------------+\n",
      "|      asin|               image|overall|          reviewText| reviewTime|    reviewerID|       reviewerName|               style|             summary|unixReviewTime|verified|vote|    processed_review|\n",
      "+----------+--------------------+-------+--------------------+-----------+--------------+-------------------+--------------------+--------------------+--------------+--------+----+--------------------+\n",
      "|0321719816|                null|    5.0|If you've been wa...|10 16, 2010| ACJT8MUC0LRF0|          D. Fowler|{null,  DVD-ROM, ...|This is excellent...|    1287187200|   false|   3|wanting learn cre...|\n",
      "|0321719816|                null|    5.0|I have also taken...|10 28, 2010|A2WCFDOCS73PNB|          Gadgetman|{null,  DVD-ROM, ...|Excellent value f...|    1288224000|   false|   4|also taken local ...|\n",
      "|0321719816|                null|    5.0|Even though I use...|10 28, 2010|A14638TGYH7GD9|      Rebecca Haden|{null,  DVD-ROM, ...|Buy this with you...|    1288224000|   false|   6|even though use d...|\n",
      "|0321719816|                null|    3.0|I waited to compl...|10 21, 2010|A2VWE5SGNDS8HW|             tachi1|{null,  DVD-ROM, ...|Competent introdu...|    1287619200|   false|  22|waited complete e...|\n",
      "|0321700945|                null|    5.0|Adobe approved \"A...| 10 7, 2010|A23E9QQHJLNGUI|       Bill Oterson|{null,  DVD-ROM, ...|Absolutely the best.|    1286409600|   false|  19|adobe approved ad...|\n",
      "|0321700945|                null|    3.0|There are over 10...| 01 9, 2011|A1E50L7PCVXLN4|            Colinda|{null,  DVD-ROM, ...|For Highly Motiva...|    1294531200|   false|  16|100 video lessons...|\n",
      "|0763855553|                null|    1.0|Been using Office...|03 31, 2017|A2WUYJJ7NPQ5H4|         Richard S.|                null|and easily corrup...|    1490918400|    true|   2|using office twen...|\n",
      "|0763855553|                null|    5.0|I have been using...|04 28, 2016| AJK49DENMS2BT|Richard E. J. Burke|                null|despite competing...|    1461801600|    true|   8|using ms office p...|\n",
      "|0763855553|                null|    5.0|This is really a ...|04 10, 2016|A3UI63EESKUYHU|    Amazon Customer|                null|     Excellent value|    1460246400|    true|   2|really great buy ...|\n",
      "|0763855553|                null|    4.0|The bottom line: ...|10 29, 2015|A1MRPX3RM48T2I|    Trenton Bennett|                null|  Times have changed|    1446076800|    true|  39|bottom line like ...|\n",
      "|0763855553|                null|    1.0|Complete rubbish!...| 12 2, 2014| AEC7B85GKPM0W|            G. Bell|                null|   Complete Rubbish!|    1417478400|   false|   4|complete rubbish ...|\n",
      "|0763855553|                null|    5.0|The only real que...| 04 1, 2014|A3VV6SV0Z2HNTA|          Uncle Bob|                null|            It Works|    1396310400|    true|   2|real question  ca...|\n",
      "|0763855553|                null|    1.0|When I try to ins...|03 17, 2014|A2MKY8OUI8GZG1|        Big shopper|                null|   Will not install!|    1395014400|    true|   3|try install recei...|\n",
      "|0763855553|                null|    4.0|For most of us, M...|09 30, 2013| AEJAGHLC675A7|    John Williamson|                null|Office 365 Home P...|    1380499200|   false|  34|us microsoft offi...|\n",
      "|0763855553|[https://images-n...|    5.0|(Note to Mac user...|09 20, 2013|A379DLIAF0MFM5|          Mr. Deeds|                null|Ideal if you work...|    1379635200|   false|   2|note mac users on...|\n",
      "|0982697813|                null|    5.0|Even though glo w...| 06 1, 2011| ACJT8MUC0LRF0|          D. Fowler|                null|Glo is good to go...|    1306886400|   false|   6|even though glo w...|\n",
      "|0982697813|                null|    5.0|This is a Bible s...|09 28, 2011| AZYJE40XW6MFG|         A. Manning|                null|A Pastor's must have|    1317168000|   false|   2|bible software li...|\n",
      "|0982697813|                null|    4.0|GLO is a visually...|08 25, 2011|A3TPNC3TKGCCEI|          Ms. Rocki|                null|Visually Stunning...|    1314230400|   false|  10|glo visually stun...|\n",
      "|0982697813|                null|    5.0|I've not had near...|07 14, 2011|A3BNMHRW2R35LK|        S. Peterson|                null|     Tons of content|    1310601600|   false|   2|nearly enough loo...|\n",
      "|0982697813|                null|    4.0|It took a little ...| 07 9, 2011|A1PI8VBCXXSGC7|               Lynn|                null|Interactive, Mult...|    1310169600|   false|   2|took little hour ...|\n",
      "+----------+--------------------+-------+--------------------+-----------+--------------+-------------------+--------------------+--------------------+--------------+--------+----+--------------------+\n",
      "only showing top 20 rows\n",
      "\n"
     ]
    }
   ],
   "source": [
    "import nltk\n",
    "import string\n",
    "import contractions\n",
    "nltk.download('stopwords')\n",
    "\n",
    "\n",
    "def remove_special_symbol(text: str) -> str:\n",
    "    translator = str.maketrans('', '', string.punctuation)\n",
    "    return text.translate(translator)\n",
    "\n",
    "\n",
    "def lower_text(text: str) -> str:\n",
    "    return text.lower()\n",
    "\n",
    "\n",
    "def remove_stop_words(text: str) -> str:\n",
    "    from nltk.corpus import stopwords\n",
    "    stop_words = set(stopwords.words('english'))\n",
    "    return ' '.join(\n",
    "        [word for word in text.split() if word not in (stop_words)])\n",
    "\n",
    "\n",
    "def expand_contraction(text: str) -> str:\n",
    "    return contractions.fix(text)\n",
    "\n",
    "\n",
    "def stemming(text: str) -> str:\n",
    "    stemmer = nltk.stem.SnowballStemmer(\"english\")\n",
    "    return stemmer.stem(text)\n",
    "\n",
    "\n",
    "process_review = udf(lambda q: stemming(remove_special_symbol(\n",
    "    remove_stop_words(expand_contraction(lower_text(q))))), StringType())\n",
    "\n",
    "df = df.withColumn(\"processed_review\", process_review(col(\"reviewText\")))\n",
    "\n",
    "df.show()\n"
   ]
  },
  {
   "cell_type": "markdown",
   "metadata": {},
   "source": [
    "Each review is assigned an overall score from 1.0 to 5.0. Convert those scores to labels where -1 is negative, 0 is neutral and 1 is positive. We also remove neutral sentiment"
   ]
  },
  {
   "cell_type": "code",
   "execution_count": 4,
   "metadata": {},
   "outputs": [
    {
     "name": "stdout",
     "output_type": "stream",
     "text": [
      "+----------+--------------------+-------+--------------------+-----------+--------------+-------------------+--------------------+--------------------+--------------+--------+----+--------------------+-----+\n",
      "|      asin|               image|overall|          reviewText| reviewTime|    reviewerID|       reviewerName|               style|             summary|unixReviewTime|verified|vote|    processed_review|label|\n",
      "+----------+--------------------+-------+--------------------+-----------+--------------+-------------------+--------------------+--------------------+--------------+--------+----+--------------------+-----+\n",
      "|0321719816|                null|    5.0|If you've been wa...|10 16, 2010| ACJT8MUC0LRF0|          D. Fowler|{null,  DVD-ROM, ...|This is excellent...|    1287187200|   false|   3|wanting learn cre...|    1|\n",
      "|0321719816|                null|    5.0|I have also taken...|10 28, 2010|A2WCFDOCS73PNB|          Gadgetman|{null,  DVD-ROM, ...|Excellent value f...|    1288224000|   false|   4|also taken local ...|    1|\n",
      "|0321719816|                null|    5.0|Even though I use...|10 28, 2010|A14638TGYH7GD9|      Rebecca Haden|{null,  DVD-ROM, ...|Buy this with you...|    1288224000|   false|   6|even though use d...|    1|\n",
      "|0321700945|                null|    5.0|Adobe approved \"A...| 10 7, 2010|A23E9QQHJLNGUI|       Bill Oterson|{null,  DVD-ROM, ...|Absolutely the best.|    1286409600|   false|  19|adobe approved ad...|    1|\n",
      "|0763855553|                null|    1.0|Been using Office...|03 31, 2017|A2WUYJJ7NPQ5H4|         Richard S.|                null|and easily corrup...|    1490918400|    true|   2|using office twen...|    0|\n",
      "|0763855553|                null|    5.0|I have been using...|04 28, 2016| AJK49DENMS2BT|Richard E. J. Burke|                null|despite competing...|    1461801600|    true|   8|using ms office p...|    1|\n",
      "|0763855553|                null|    5.0|This is really a ...|04 10, 2016|A3UI63EESKUYHU|    Amazon Customer|                null|     Excellent value|    1460246400|    true|   2|really great buy ...|    1|\n",
      "|0763855553|                null|    4.0|The bottom line: ...|10 29, 2015|A1MRPX3RM48T2I|    Trenton Bennett|                null|  Times have changed|    1446076800|    true|  39|bottom line like ...|    1|\n",
      "|0763855553|                null|    1.0|Complete rubbish!...| 12 2, 2014| AEC7B85GKPM0W|            G. Bell|                null|   Complete Rubbish!|    1417478400|   false|   4|complete rubbish ...|    0|\n",
      "|0763855553|                null|    5.0|The only real que...| 04 1, 2014|A3VV6SV0Z2HNTA|          Uncle Bob|                null|            It Works|    1396310400|    true|   2|real question  ca...|    1|\n",
      "|0763855553|                null|    1.0|When I try to ins...|03 17, 2014|A2MKY8OUI8GZG1|        Big shopper|                null|   Will not install!|    1395014400|    true|   3|try install recei...|    0|\n",
      "|0763855553|                null|    4.0|For most of us, M...|09 30, 2013| AEJAGHLC675A7|    John Williamson|                null|Office 365 Home P...|    1380499200|   false|  34|us microsoft offi...|    1|\n",
      "|0763855553|[https://images-n...|    5.0|(Note to Mac user...|09 20, 2013|A379DLIAF0MFM5|          Mr. Deeds|                null|Ideal if you work...|    1379635200|   false|   2|note mac users on...|    1|\n",
      "|0982697813|                null|    5.0|Even though glo w...| 06 1, 2011| ACJT8MUC0LRF0|          D. Fowler|                null|Glo is good to go...|    1306886400|   false|   6|even though glo w...|    1|\n",
      "|0982697813|                null|    5.0|This is a Bible s...|09 28, 2011| AZYJE40XW6MFG|         A. Manning|                null|A Pastor's must have|    1317168000|   false|   2|bible software li...|    1|\n",
      "|0982697813|                null|    4.0|GLO is a visually...|08 25, 2011|A3TPNC3TKGCCEI|          Ms. Rocki|                null|Visually Stunning...|    1314230400|   false|  10|glo visually stun...|    1|\n",
      "|0982697813|                null|    5.0|I've not had near...|07 14, 2011|A3BNMHRW2R35LK|        S. Peterson|                null|     Tons of content|    1310601600|   false|   2|nearly enough loo...|    1|\n",
      "|0982697813|                null|    4.0|It took a little ...| 07 9, 2011|A1PI8VBCXXSGC7|               Lynn|                null|Interactive, Mult...|    1310169600|   false|   2|took little hour ...|    1|\n",
      "|0982697813|                null|    5.0|I got this instal...|06 29, 2011|A1D7VWS3DWS7X8|     Joseph Siegler|                null|Really cool new w...|    1309305600|   false|  20|got installed com...|    1|\n",
      "|1413313701|                null|    4.0|For me, WillMaker...|05 24, 2012|A3PJZ8TU8FDQ1K|       Jared Castle|{null,  Box, null...|Better late than ...|    1337817600|   false|   2|me willmaker serv...|    1|\n",
      "+----------+--------------------+-------+--------------------+-----------+--------------+-------------------+--------------------+--------------------+--------------+--------+----+--------------------+-----+\n",
      "only showing top 20 rows\n",
      "\n"
     ]
    }
   ],
   "source": [
    "# PySpark only allows classification label to be 0 and 1 only\n",
    "# We don't need neutral review so I set it to -1\n",
    "def sentiment_from_overall(number):\n",
    "    if number < 3.0:\n",
    "        return 0\n",
    "    if number == 3.0:\n",
    "        return -1\n",
    "    return 1\n",
    "\n",
    "\n",
    "add_sentiment = udf(lambda q: sentiment_from_overall(q), IntegerType())\n",
    "df = df.withColumn(\"label\", add_sentiment(col(\"overall\")))\n",
    "\n",
    "# Drop column with -1 (neutral) sentiment\n",
    "df = df.filter(df[\"label\"] != -1)\n",
    "df.show()\n"
   ]
  },
  {
   "cell_type": "markdown",
   "metadata": {},
   "source": [
    "# Algorithms"
   ]
  },
  {
   "cell_type": "code",
   "execution_count": 5,
   "metadata": {},
   "outputs": [
    {
     "name": "stdout",
     "output_type": "stream",
     "text": [
      "+-----+--------------------+\n",
      "|label|    processed_review|\n",
      "+-----+--------------------+\n",
      "|    1|wanting learn cre...|\n",
      "|    1|also taken local ...|\n",
      "|    1|even though use d...|\n",
      "|    1|adobe approved ad...|\n",
      "|    0|using office twen...|\n",
      "|    1|using ms office p...|\n",
      "|    1|really great buy ...|\n",
      "|    1|bottom line like ...|\n",
      "|    0|complete rubbish ...|\n",
      "|    1|real question  ca...|\n",
      "|    0|try install recei...|\n",
      "|    1|us microsoft offi...|\n",
      "|    1|note mac users on...|\n",
      "|    1|even though glo w...|\n",
      "|    1|bible software li...|\n",
      "|    1|glo visually stun...|\n",
      "|    1|nearly enough loo...|\n",
      "|    1|took little hour ...|\n",
      "|    1|got installed com...|\n",
      "|    1|me willmaker serv...|\n",
      "+-----+--------------------+\n",
      "only showing top 20 rows\n",
      "\n"
     ]
    }
   ],
   "source": [
    "# We only care about sentiment and processed review column\n",
    "df = df.select([\"label\", \"processed_review\"])\n",
    "df.show()\n"
   ]
  },
  {
   "cell_type": "markdown",
   "metadata": {},
   "source": [
    "We will separate our data into 3 sets which are `trainning`, `validation` and `testing`.\n",
    "\n",
    "The trainning step will be used to create our model, we want to config parameters that will generalize well in this step\n",
    "\n",
    "Validation step will be used for hyperparameter tuning, to maximize our model's accuracy.\n",
    "\n",
    "Finally, we measure and compare our results using the test set.\n",
    "\n",
    "We will split the dataset in the following ration: 80, 10 and 10."
   ]
  },
  {
   "cell_type": "code",
   "execution_count": 6,
   "metadata": {},
   "outputs": [
    {
     "name": "stdout",
     "output_type": "stream",
     "text": [
      "Train samples: 2689\n",
      "Test samples: 694\n"
     ]
    }
   ],
   "source": [
    "train, test = df.randomSplit([0.8, 0.2], seed=22)\n",
    "train.cache()\n",
    "print(\"Train samples:\", train.count())\n",
    "print(\"Test samples:\", test.count())\n"
   ]
  },
  {
   "attachments": {},
   "cell_type": "markdown",
   "metadata": {},
   "source": [
    "The evaluate_model is our metrics to determine if our model is good or not in this project"
   ]
  },
  {
   "cell_type": "code",
   "execution_count": 7,
   "metadata": {},
   "outputs": [],
   "source": [
    "# Show accuracy score, f1 score, recall score and confusion matrix\n",
    "from pyspark.mllib.evaluation import BinaryClassificationMetrics, MulticlassMetrics\n",
    "from pyspark.sql.dataframe import DataFrame\n",
    "from seaborn import heatmap\n",
    "\n",
    "def evaluate_model(dataframe: DataFrame):\n",
    "    # Need to convert to double to feed into BinaryClassificationMetrics\n",
    "    # Instantiate metrics object\n",
    "    scoreAndLabels = dataframe.select([\"prediction\", \"label\"]).rdd.map(\n",
    "        lambda xs: [float(x) for x in xs])\n",
    "    metrics = BinaryClassificationMetrics(scoreAndLabels)\n",
    "    print(\"Area under PR:\", metrics.areaUnderPR)\n",
    "    print(\"Area under ROC:\", metrics.areaUnderROC)\n",
    "\n",
    "    multi_metrics = MulticlassMetrics(scoreAndLabels.map(tuple))\n",
    "    ax = plt.subplot()\n",
    "    heatmap(multi_metrics.confusionMatrix().toArray(),\n",
    "            annot=True, fmt='g', ax=ax, cmap=\"crest\", xticklabels=[\"Negative\", \"Positive\"], yticklabels=[\"Negative\", \"Positive\"])\n",
    "    plt.ylabel('Actual')\n",
    "    plt.xlabel('Predicted')\n",
    "    print(\"Accuracy:\", multi_metrics.accuracy)\n",
    "    print(\"Weighted Precision:\", multi_metrics.weightedPrecision)\n",
    "    print(\"Weighted Recall\", multi_metrics.weightedRecall)\n",
    "    print(\"Weighted F Score\", multi_metrics.weightedFMeasure())\n",
    "    print(\"Weighted False Positive Rate\",\n",
    "          multi_metrics.weightedFalsePositiveRate)\n",
    "    print(\"Weighted True Positive Rate\",\n",
    "          multi_metrics.weightedTruePositiveRate)\n"
   ]
  },
  {
   "cell_type": "markdown",
   "metadata": {},
   "source": [
    "Next up, we need to extract features from our text data. This will act as an input to our ML model. There are many options that we can choose from, notably:\n",
    "\n",
    "1, **TF-IDF**: Stands for Term Frequency – Inverse Document Frequency\n",
    "\n",
    "2, **Count Vectorizer**\n",
    "\n",
    "We will use TF-IDF for feature extraction. The reason is that Count Vectorizer only focuses on the frequency of the word, which results in biasing in favour of popular words. For example, the word `the` will be counted a lot but does not hold any significant meaning. Meanwhile, using TF-IDF, we can avoid common words that does not carry any sentiment"
   ]
  },
  {
   "cell_type": "code",
   "execution_count": 8,
   "metadata": {},
   "outputs": [],
   "source": [
    "from pyspark.ml.feature import HashingTF, IDF, Tokenizer, NGram\n",
    "\n",
    "# Split word by space\n",
    "tokenizer = Tokenizer(inputCol=\"processed_review\",\n",
    "                      outputCol=\"words\")\n",
    "\n",
    "# Use TF IDF\n",
    "hashingTF = HashingTF(inputCol=\"words\",\n",
    "                      outputCol=\"rawFeatures\", numFeatures=5)\n",
    "\n",
    "# Scaling\n",
    "idf = IDF(inputCol=\"rawFeatures\", outputCol=\"features\")"
   ]
  },
  {
   "cell_type": "code",
   "execution_count": 9,
   "metadata": {},
   "outputs": [
    {
     "name": "stderr",
     "output_type": "stream",
     "text": [
      "c:\\Users\\Garth Slaney\\Software\\Amazon-Reviews-Classifier\\.venv\\lib\\site-packages\\pyspark\\sql\\context.py:157: FutureWarning: Deprecated in 3.0.0. Use SparkSession.builder.getOrCreate() instead.\n",
      "  warnings.warn(\n"
     ]
    },
    {
     "name": "stdout",
     "output_type": "stream",
     "text": [
      "Area under PR: 0.8482976339241529\n",
      "Area under ROC: 0.7709044093981332\n",
      "Accuracy: 0.760806916426513\n",
      "Weighted Precision: 0.7877728099278309\n",
      "Weighted Recall 0.760806916426513\n",
      "Weighted F Score 0.7661875931253412\n",
      "Weighted False Positive Rate 0.21899809763024647\n",
      "Weighted True Positive Rate 0.760806916426513\n"
     ]
    },
    {
     "data": {
      "image/png": "[encoded data removed]",
      "text/plain": [
       "<Figure size 640x480 with 2 Axes>"
      ]
     },
     "metadata": {},
     "output_type": "display_data"
    }
   ],
   "source": [
    "from pyspark.ml import Pipeline\n",
    "from pyspark.ml.classification import NaiveBayes\n",
    "from pyspark.ml.tuning import CrossValidator, ParamGridBuilder\n",
    "from pyspark.ml.evaluation import BinaryClassificationEvaluator\n",
    "\n",
    "nativeBayes = NaiveBayes(modelType=\"complement\")\n",
    "pipeline = Pipeline(stages=[tokenizer, hashingTF, idf, nativeBayes])\n",
    "\n",
    "param_grid = ParamGridBuilder() \\\n",
    "    .addGrid(hashingTF.numFeatures, [5, 100, 1000]) \\\n",
    "    .addGrid(nativeBayes.smoothing, [0, 1, 2, 4, 8]) \\\n",
    "    .build()\n",
    "\n",
    "crossval = CrossValidator(estimator=pipeline,\n",
    "                          estimatorParamMaps=param_grid,\n",
    "                          evaluator=BinaryClassificationEvaluator(),\n",
    "                          numFolds=5)\n",
    "\n",
    "cross_validator = crossval.fit(train)\n",
    "evaluate_model(cross_validator.transform(test))"
   ]
  },
  {
   "cell_type": "code",
   "execution_count": 11,
   "metadata": {},
   "outputs": [
    {
     "name": "stdout",
     "output_type": "stream",
     "text": [
      "Area under PR: 0.871219459279591\n",
      "Area under ROC: 0.7755942801967906\n",
      "Accuracy: 0.7435158501440923\n",
      "Weighted Precision: 0.8003126141586225\n",
      "Weighted Recall 0.7435158501440922\n",
      "Weighted F Score 0.749770236931993\n",
      "Weighted False Positive Rate 0.1923272897505109\n",
      "Weighted True Positive Rate 0.7435158501440922\n"
     ]
    },
    {
     "data": {
      "image/png": "[encoded data removed]",
      "text/plain": [
       "<Figure size 640x480 with 2 Axes>"
      ]
     },
     "metadata": {},
     "output_type": "display_data"
    }
   ],
   "source": [
    "from pyspark.ml.classification import LinearSVC\n",
    "\n",
    "linSVC = LinearSVC(maxIter=100)\n",
    "pipeline = Pipeline(stages=[tokenizer, hashingTF, idf, linSVC])\n",
    "\n",
    "param_grid = ParamGridBuilder() \\\n",
    "    .addGrid(hashingTF.numFeatures, [5, 100, 1000]) \\\n",
    "    .addGrid(linSVC.threshold, [0.62, 0.65]) \\\n",
    "    .addGrid(linSVC.regParam, [0.01, 0.1]) \\\n",
    "    .build()\n",
    "\n",
    "crossval = CrossValidator(estimator=pipeline,\n",
    "                          estimatorParamMaps=param_grid,\n",
    "                          evaluator=BinaryClassificationEvaluator(),\n",
    "                          numFolds=5)\n",
    "\n",
    "cross_validator = crossval.fit(train)\n",
    "evaluate_model(cross_validator.transform(test))\n"
   ]
  }
 ],
 "metadata": {
  "kernelspec": {
   "display_name": ".venv",
   "language": "python",
   "name": "python3"
  },
  "language_info": {
   "codemirror_mode": {
    "name": "ipython",
    "version": 3
   },
   "file_extension": ".py",
   "mimetype": "text/x-python",
   "name": "python",
   "nbconvert_exporter": "python",
   "pygments_lexer": "ipython3",
   "version": "3.10.9"
  },
  "orig_nbformat": 4,
  "vscode": {
   "interpreter": {
    "hash": "ade5175657a384c870ce27a5468b870d93c8396155db411c8dc8032c819a36f9"
   }
  }
 },
 "nbformat": 4,
 "nbformat_minor": 2
}
